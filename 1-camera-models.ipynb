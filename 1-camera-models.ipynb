{
 "cells": [
  {
   "cell_type": "markdown",
   "id": "235455e1",
   "metadata": {},
   "source": [
    "<img src=\"https://www.rochester.edu/assets/images/ur-logo.svg\">\n",
    "\n",
    "# <center>[CSC 249/449: Machine Vision](https://www.cs.rochester.edu/~cxu22/t/249S22/)</center>\n",
    "\n",
    "\n",
    "1. Make sure you fill in all cells contain `YOUR CODE HERE` or `YOUR ANSWER HERE`.\n",
    "2. After you finished, `Restart the kernel & run` all cell in order.\n",
    "---------\n"
   ]
  },
  {
   "cell_type": "code",
   "execution_count": 1,
   "id": "1817e824",
   "metadata": {},
   "outputs": [],
   "source": [
    "import numpy as np\n",
    "import csc249"
   ]
  },
  {
   "cell_type": "markdown",
   "id": "500ba8ba",
   "metadata": {},
   "source": [
    "# Camera Model\n",
    "\n",
    "\n",
    "In this assignment, we aim to estimate the projection matrix $\\mathbf{P}$ of the camera model with calibrated data points and compute the camera center from $\\mathbf{P}$\n",
    "\n",
    "To estimate the projection matrix, you'll only need to implement one function: `projection`: project world coordinates point to pixel coordinates\n",
    "\n",
    "The matrix is estimated by minimizing the projection error:\n",
    "$$\n",
    "P = \\underset{\\mathbf{P}}{\\arg\\min}\\sum_{i=1}^N (\\mathbf{P}\\mathbf{x}_{3d}^i-\\mathbf{x}_{2d}^i )^2 .\n",
    "$$\n",
    "\n",
    "Finally, we can decompose the projection matrix as  $\\mathbf{P}=\\mathbf{K}\\mathbf{R}[\\mathbf{I}|-\\mathbf{C}]$ and find the camera location in the world coordinates."
   ]
  },
  {
   "cell_type": "markdown",
   "id": "8e00f2fc",
   "metadata": {},
   "source": [
    "## Projection\n",
    "\n",
    "As shown in the lecture slide, the pixel coordinates $x_i, y_i$ is the projection from world coordinates $X_i = [X_i, Y_i, Z_i, 1]$ throught the camera model $P_p \\in R^{3\\times4}$\n",
    "\n",
    "You'll need to implement the project function `projection(P , world_points)` projects array of world points to pixel coordinates with the the equations:\n",
    "\n",
    "$$\n",
    "\\begin{bmatrix}\n",
    "    u \\\\\n",
    "    v \\\\\n",
    "    s\n",
    "\\end{bmatrix}\n",
    "=\n",
    "\\begin{bmatrix}\n",
    "p_{11} & p_{12} & p_{13} & p_{14} \\\\\n",
    "p_{21} & p_{22} & p_{23} & p_{24} \\\\\n",
    "p_{31} & p_{32} & p_{33} & p_{34} \n",
    "\\end{bmatrix}\n",
    "\\begin{bmatrix}\n",
    "    x_w \\\\\n",
    "    y_w \\\\\n",
    "    z_w \\\\\n",
    "    1\n",
    "\\end{bmatrix}\n",
    "\\\\\n",
    "\\begin{bmatrix}\n",
    "    x \\\\\n",
    "    y \\\\\n",
    "    1\n",
    "\\end{bmatrix}\n",
    "\\cong\n",
    "\\begin{bmatrix}\n",
    "    u / s \\\\\n",
    "    v / s \\\\\n",
    "    1\n",
    "\\end{bmatrix}\n",
    "$$"
   ]
  },
  {
   "cell_type": "code",
   "execution_count": 2,
   "id": "2f2d3508",
   "metadata": {
    "deletable": false,
    "nbgrader": {
     "cell_type": "code",
     "checksum": "4e1698c845af1349a0219b00b671f897",
     "grade": false,
     "grade_id": "cell-5b768b1d6b9ed092",
     "locked": false,
     "schema_version": 3,
     "solution": true,
     "task": false
    }
   },
   "outputs": [],
   "source": [
    "def projection(P , world_points):\n",
    "    \"\"\"\n",
    "    Arguments:\n",
    "    ----------\n",
    "        P : numpy.ndarray\n",
    "            A 3D numpy.ndarray of shape 3 x 4.\n",
    "        world_points: numpy.ndarray\n",
    "            n x 4 array of points [X_i,Y_i,Z_i,1]\n",
    "    Returns:\n",
    "    --------\n",
    "        projected_points_2d: numpy.ndarray\n",
    "            n x 2 array of points in image coordinates\n",
    "    \"\"\"\n",
    "    # YOUR CODE HERE\n",
    "    n3 = world_points.shape\n",
    "    n = n3[0]\n",
    "    \n",
    "    # append 1 to the world points\n",
    "    world_appended = []\n",
    "    for i in range(n):\n",
    "        tempRow = np.append(world_points[i], [1], axis=0)\n",
    "        world_appended.append(tempRow)\n",
    "\n",
    "    # multiply them\n",
    "    Pt = np.transpose(P) # size = 4 x 3\n",
    "    Pre = np.matmul(world_appended, Pt) # size = n x 3\n",
    "\n",
    "    # create a n x 2 matrix\n",
    "    mat = []\n",
    "    for i in range(n):\n",
    "        tempRow = Pre[i]\n",
    "        u = tempRow[0]\n",
    "        v = tempRow[1]\n",
    "        s = tempRow[2]\n",
    "        newRow = []\n",
    "        newRow.append(u/s)\n",
    "        newRow.append(v/s)\n",
    "        mat.append(newRow)\n",
    "    return np.array(mat)\n",
    "    #raise NotImplementedError()"
   ]
  },
  {
   "cell_type": "code",
   "execution_count": 3,
   "id": "f9aae746",
   "metadata": {
    "deletable": false,
    "editable": false,
    "nbgrader": {
     "cell_type": "code",
     "checksum": "a9164e59d89b2331fc911e14838f7f00",
     "grade": true,
     "grade_id": "cell-d52e87634a56c5c7",
     "locked": true,
     "points": 15,
     "schema_version": 3,
     "solution": false,
     "task": false
    }
   },
   "outputs": [],
   "source": [
    "data = np.load(csc249.data/'random_proj.npz')\n",
    "assert np.allclose(data['point_2d'], projection(data['M'], data['point_3d'])), 'There is something wrong with the projection function'"
   ]
  },
  {
   "cell_type": "markdown",
   "id": "47245439",
   "metadata": {},
   "source": [
    "## Estimate projection matrix\n",
    "\n",
    "This step is to find the matrix with minimal projection error, and thus we need to measure the error between the calibrated 2d points and estimated ones.\n",
    "Here we use least sequare fit which is common for regression tasks\n",
    "\n",
    "If everything is right, the residual error is less than 30."
   ]
  },
  {
   "cell_type": "code",
   "execution_count": 4,
   "id": "9d0af3fb",
   "metadata": {},
   "outputs": [
    {
     "name": "stdout",
     "output_type": "stream",
     "text": [
      "residual error of L2(M*point_3d,point_2d):14.711435077163012\n"
     ]
    }
   ],
   "source": [
    "data = np.load(csc249.data/'calibrated_proj.npz')\n",
    "P = csc249.estimate_M(projection, data['point_2d'], data['point_3d'], data['init_M'])"
   ]
  },
  {
   "cell_type": "markdown",
   "id": "ba730430",
   "metadata": {
    "deletable": false,
    "editable": false,
    "nbgrader": {
     "cell_type": "markdown",
     "checksum": "40bb87e4a15da5d70da48129a46802fb",
     "grade": false,
     "grade_id": "cell-459f41b72d6ce8fd",
     "locked": true,
     "schema_version": 3,
     "solution": false,
     "task": false
    }
   },
   "source": [
    "### Question: \n",
    "##### How many pairs of 3d,2d points at least we need to obtain accurate P and why?\n",
    "\n",
    "Write your answer at the cell below"
   ]
  },
  {
   "cell_type": "markdown",
   "id": "0b70c62c",
   "metadata": {
    "deletable": false,
    "nbgrader": {
     "cell_type": "markdown",
     "checksum": "7d3727155c2df3f91b08644b5259357b",
     "grade": true,
     "grade_id": "cell-8f9e18809c7e9752",
     "locked": false,
     "points": 5,
     "schema_version": 3,
     "solution": true,
     "task": false
    }
   },
   "source": [
    "#### 4 pairs\n",
    "\"\"\"\n",
    "There are 12 variables we are to find in P, which calls for at least 12 equations. Each pair gives us 3 equations, so we need a total of 4 pairs.\n",
    "\"\"\""
   ]
  },
  {
   "cell_type": "markdown",
   "id": "c7bbcb0f",
   "metadata": {},
   "source": [
    "## Find the camera center\n",
    "\n",
    "For the pinhole camera, the camera model is often written as $\\mathbf{P}=\\mathbf{K}\\mathbf{R}[\\mathbf{I}|-\\mathbf{C}]$ where $\\mathbf{C}$ is the translation vector in the world coordinates and can be seen as the camera center location in the 3d world.\n",
    "\n",
    "The projection matrix we computed above is composed by intrinsic parameters $\\mathbf{K}$ of the camera itself and extrinsic parameters including rotation $\\mathbf{R}$ and translation $\\mathbf{t}$ \n",
    "\n",
    "\n",
    "\n",
    "$$\n",
    "\\mathbf{P}\n",
    "=\n",
    "\\begin{bmatrix}\n",
    "f & 0 & p_{x} \\\\\n",
    "0 & f & p_{y} \\\\\n",
    "0 & 0 & 1 \n",
    "\\end{bmatrix}\n",
    "\\begin{bmatrix}\n",
    "r_{1} & r_{2} & r_{3} & t_{1} \\\\\n",
    "r_{4} & r_{5} & r_{6} & t_{2} \\\\\n",
    "r_{7} & r_{8} & r_{9} & t_{3} \n",
    "\\end{bmatrix}\n",
    "\\\\\n",
    "\\mathbf{R}\n",
    "=\n",
    "\\begin{bmatrix}\n",
    "r_{1} & r_{2} & r_{3} \\\\\n",
    "r_{4} & r_{5} & r_{6} \\\\\n",
    "r_{7} & r_{8} & r_{9} \n",
    "\\end{bmatrix}\n",
    "\\mathbf{t}\n",
    "=\n",
    "\\begin{bmatrix}\n",
    "t_{1} \\\\\n",
    "t_{2} \\\\\n",
    "t_{3} \n",
    "\\end{bmatrix}\n",
    "$$\n",
    "Then we can simplify the notation as:\n",
    "$$\n",
    "\\mathbf{P}=\\mathbf{K}[\\mathbf{R}|\\mathbf{t}]\n",
    "$$\n",
    "This is the same as  $\\mathbf{P}=\\mathbf{K}\\mathbf{R}[\\mathbf{I}|-\\mathbf{C}]$, when $\\mathbf{t}=-\\mathbf{R}\\mathbf{C}$\n",
    "\n",
    "Now, with estimated $\\mathbf{P}$, you'll need to implement the following function to compute the camera center $\\mathbf{C}$.\n",
    "\n",
    ">hint: use `np.linalg.inv()` to computer the inverse of the matrix"
   ]
  },
  {
   "cell_type": "code",
   "execution_count": 5,
   "id": "7c148ec2",
   "metadata": {
    "deletable": false,
    "nbgrader": {
     "cell_type": "code",
     "checksum": "b95f16fc784b05ed0741ca94b31ec790",
     "grade": false,
     "grade_id": "cell-599ca4de4d7adfea",
     "locked": false,
     "schema_version": 3,
     "solution": true,
     "task": false
    }
   },
   "outputs": [],
   "source": [
    "def camera_center(P):\n",
    "    \"\"\"\n",
    "    Returns the camera center matrix for a given projection matrix.\n",
    "\n",
    "    Args:\n",
    "        P: ndarray of of shape (3, 4)\n",
    "            A numpy array representing the projection matrix\n",
    "\n",
    "    Returns:\n",
    "        center: ndarray of of shape (1, 3)\n",
    "            A numpy array representing the camera location in world coordinates\n",
    "\n",
    "    \"\"\"\n",
    "    # YOUR CODE HERE\n",
    "    K, rT = np.linalg.qr(P)\n",
    "    T = np.transpose(rT)\n",
    "    t = T[3]\n",
    "    r = T\n",
    "    r = np.delete(r, 3, 0)\n",
    "    r = np.transpose(r)\n",
    "    r = np.linalg.inv(r)\n",
    "    t = np.transpose(t)\n",
    "    center = - np.matmul(r, t)\n",
    "    print(center)\n",
    "    #raise NotImplementedError()\n",
    "    return center"
   ]
  },
  {
   "cell_type": "code",
   "execution_count": 6,
   "id": "9857604d",
   "metadata": {
    "deletable": false,
    "editable": false,
    "nbgrader": {
     "cell_type": "code",
     "checksum": "94bc04d910754a56b8e366cad25395b0",
     "grade": true,
     "grade_id": "cell-e1a66e05a29b2fa8",
     "locked": true,
     "points": 10,
     "schema_version": 3,
     "solution": false,
     "task": false
    }
   },
   "outputs": [
    {
     "name": "stdout",
     "output_type": "stream",
     "text": [
      "[303.10420331 307.1728975   30.42089953]\n"
     ]
    }
   ],
   "source": [
    "center = camera_center(P)"
   ]
  },
  {
   "cell_type": "markdown",
   "id": "3f60baaa",
   "metadata": {},
   "source": [
    "If your implementation is correct, you'll see figure like this\n",
    "\n",
    "<img src=\"./camera-center.png\" height=\"350\"/>"
   ]
  },
  {
   "cell_type": "code",
   "execution_count": 7,
   "id": "04ff07e8",
   "metadata": {
    "deletable": false,
    "nbgrader": {
     "cell_type": "code",
     "checksum": "94cb11b8ded7a95fdefa2c574afadbda",
     "grade": true,
     "grade_id": "cell-ff41ad2c55d43c65",
     "locked": false,
     "points": 5,
     "schema_version": 3,
     "solution": true,
     "task": false
    }
   },
   "outputs": [
    {
     "data": {
      "image/png": "[encoded data removed]",
      "text/plain": [
       "<Figure size 432x288 with 1 Axes>"
      ]
     },
     "metadata": {
      "needs_background": "light"
     },
     "output_type": "display_data"
    }
   ],
   "source": [
    "# YOUR CODE HERE\n",
    "\n",
    "import matplotlib.pyplot as plt\n",
    "fig = plt.figure()\n",
    "ax = plt.axes(projection='3d')\n",
    "\n",
    "World = data['point_3d']\n",
    "m = len(World)\n",
    "World = np.transpose(World)\n",
    "x = World[0]\n",
    "y = World[1]\n",
    "z = World[2]\n",
    "z0 = min(z)\n",
    "\n",
    "ax.scatter3D(x, y, z, color=\"blue\")\n",
    "ax.scatter3D(center[0], center[1], center[2], color=\"red\")\n",
    "\n",
    "for i in range(m):\n",
    "    ax.plot([x[i], x[i]], [y[i], y[i]], [z[i], z0], 'k-')\n",
    "\n",
    "\n",
    "plt.show()\n",
    "\n",
    "#raise NotImplementedError()"
   ]
  },
  {
   "cell_type": "markdown",
   "id": "8ba34ade",
   "metadata": {},
   "source": [
    "# Submission\n",
    "\n",
    "1. At the menubar, click `Kernel`$\\rightarrow$ `Restart & Run All`\n",
    "2. Download the zip file and upload via blackboard\n",
    "   \n",
    "1% deduction of late assignment total score per hour passing the deadline."
   ]
  },
  {
   "cell_type": "code",
   "execution_count": 8,
   "id": "f68c5119",
   "metadata": {},
   "outputs": [
    {
     "name": "stdout",
     "output_type": "stream",
     "text": [
      "Archived: 4-feature-descriptor.ipynb\n",
      "Archived: 3-image-gradient.ipynb\n",
      "Archived: 2-filtering.ipynb\n",
      "Archived: 1-camera-models.ipynb\n",
      "Please summit this file at /home/anon/httpd/htdocs/users/ugrads/plam6/PS1/plam6.zip\n"
     ]
    }
   ],
   "source": [
    "import csc249\n",
    "csc249.make_submission()"
   ]
  }
 ],
 "metadata": {
  "kernelspec": {
   "display_name": "Python 3 (ipykernel)",
   "language": "python",
   "name": "python3"
  },
  "language_info": {
   "codemirror_mode": {
    "name": "ipython",
    "version": 3
   },
   "file_extension": ".py",
   "mimetype": "text/x-python",
   "name": "python",
   "nbconvert_exporter": "python",
   "pygments_lexer": "ipython3",
   "version": "3.9.7"
  }
 },
 "nbformat": 4,
 "nbformat_minor": 5
}
